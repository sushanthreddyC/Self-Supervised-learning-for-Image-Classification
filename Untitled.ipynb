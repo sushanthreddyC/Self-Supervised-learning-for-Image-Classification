{
 "cells": [
  {
   "cell_type": "code",
   "execution_count": 63,
   "id": "ddaa8bf8-bfeb-486f-a75f-f9b09f1949ed",
   "metadata": {},
   "outputs": [],
   "source": [
    "import pandas as pd\n",
    "import collections"
   ]
  },
  {
   "cell_type": "code",
   "execution_count": 64,
   "id": "730dad5e-dc33-430b-84fb-fba10564ab3c",
   "metadata": {},
   "outputs": [],
   "source": [
    "stress = [3,6,1,4,5,2,7,4]\n",
    "l=len(stress)"
   ]
  },
  {
   "cell_type": "code",
   "execution_count": 65,
   "id": "c033fe82-3493-470d-8ee7-9752cdd14d8a",
   "metadata": {},
   "outputs": [],
   "source": [
    "number_of_cycles=0.0"
   ]
  },
  {
   "cell_type": "code",
   "execution_count": 75,
   "id": "d9e377b5-5bf7-44e1-a3e0-89cd7f151668",
   "metadata": {},
   "outputs": [],
   "source": [
    "stress = [59117.25082,5649.949421,36210.62637,10571.20844,70073.15501,26632.52157,42821.43598,14514.14619,57821.17956,22569.12812,26300.24217,11302.28389,30529.98085,24068.41947,27650.59186,18237.93992,36210.62637,27650.59186,39867.11529,35345.02762,42821.43598,15394.04778,33669.50057,2983.97287,20865.80108,7910.428014,54048.1737,9867.138981,14514.14619,10571.20844,86083.50747,35345.02762,55286.11817,23762.47533,34498.11478,26300.24217,34498.11478,13666.10492,51633.53756,4665.739972,42821.43598,15394.04778,59117.25082,1821.191384,29786.77971,13666.10492,33669.50057,29059.422,40831.39956,6731.169809,59117.25082,15394.04778,28347.4956,25646.00647,31289.4396,23762.47533,25005.21569,6178.371564,7910.428014,6451.716271,6731.169809,5649.949421,5649.949421,3777.44998,6731.169809,6178.371564,23762.47533,19259.0939,25005.21569,2983.97287,9867.138981,9525.003762,71501.82251,3777.44998]\n",
    "l=len(stress)\n",
    "\n",
    "number_of_cycles=0.0\n",
    "\n",
    "starting_point=0\n",
    "cur_index=0\n",
    "while(cur_index< len(stress)-2):\n",
    "    X = abs(stress[cur_index+2]-stress[cur_index+1])\n",
    "    Y = abs(stress[cur_index+1]-stress[cur_index])\n",
    "    # print(f\"y={Y} and x={X}\")\n",
    "    if(Y>X):\n",
    "        # print(\"values at no cycle are:\" , stress[cur_index], stress[cur_index+1], stress[cur_index+2])\n",
    "        cur_index +=1\n",
    "    else:\n",
    "        if(cur_index==starting_point):\n",
    "            # print(\"values at half cycle are:\" , stress[cur_index], stress[cur_index+1], stress[cur_index+2])\n",
    "            number_of_cycles += 0.5\n",
    "            del stress[cur_index]\n",
    "            \n",
    "        else:\n",
    "            number_of_cycles += 1.0\n",
    "            # print(\"values at full cycle are:\" , stress[cur_index], stress[cur_index+1], stress[cur_index+2])\n",
    "            del stress[cur_index]\n",
    "            del stress[cur_index]\n",
    "            cur_index = starting_point\n",
    "            \n",
    "            \n",
    "number_of_cycles += (len(stress)-1)*0.5"
   ]
  },
  {
   "cell_type": "code",
   "execution_count": 76,
   "id": "8310197f-c418-4813-9662-b3fbe9fafbb2",
   "metadata": {},
   "outputs": [
    {
     "name": "stdout",
     "output_type": "stream",
     "text": [
      "36.5\n"
     ]
    }
   ],
   "source": [
    "print(number_of_cycles)"
   ]
  },
  {
   "cell_type": "code",
   "execution_count": 77,
   "id": "b17bf282-44a5-4cef-bc4f-05cc1846ee91",
   "metadata": {},
   "outputs": [
    {
     "data": {
      "text/plain": [
       "[86083.50747, 1821.191384, 71501.82251, 3777.44998]"
      ]
     },
     "execution_count": 77,
     "metadata": {},
     "output_type": "execute_result"
    }
   ],
   "source": [
    "stress"
   ]
  },
  {
   "cell_type": "code",
   "execution_count": null,
   "id": "b6077215-c4e7-4780-b4f8-6cd63ae8725d",
   "metadata": {},
   "outputs": [],
   "source": []
  }
 ],
 "metadata": {
  "kernelspec": {
   "display_name": "Python 3 (ipykernel)",
   "language": "python",
   "name": "python3"
  },
  "language_info": {
   "codemirror_mode": {
    "name": "ipython",
    "version": 3
   },
   "file_extension": ".py",
   "mimetype": "text/x-python",
   "name": "python",
   "nbconvert_exporter": "python",
   "pygments_lexer": "ipython3",
   "version": "3.11.9"
  }
 },
 "nbformat": 4,
 "nbformat_minor": 5
}
